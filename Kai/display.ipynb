{
 "cells": [
  {
   "cell_type": "code",
   "execution_count": 1,
   "id": "de6795c0",
   "metadata": {},
   "outputs": [
    {
     "name": "stderr",
     "output_type": "stream",
     "text": [
      "[nltk_data] Downloading package punkt to\n",
      "[nltk_data]     /Users/earnesthsiao/nltk_data...\n",
      "[nltk_data]   Package punkt is already up-to-date!\n",
      "[nltk_data] Downloading package stopwords to\n",
      "[nltk_data]     /Users/earnesthsiao/nltk_data...\n",
      "[nltk_data]   Package stopwords is already up-to-date!\n"
     ]
    }
   ],
   "source": [
    "from extract_keywords import extract_keywords"
   ]
  },
  {
   "cell_type": "code",
   "execution_count": 3,
   "id": "4b66c078",
   "metadata": {},
   "outputs": [
    {
     "name": "stdout",
     "output_type": "stream",
     "text": [
      "Input text: 今天是一個晴朗的星期天。我要去西門町看電影，騎完之後要去東吳大學後面爬山\n",
      "['今天', '是', '一個', '晴朗', '的', '星期', '星期天', '我要', '去', '西門町', '看電影', '騎', '完之後要', '去', '東吳大學', '後', '面', '爬山']\n",
      "Input text: Today is a sunny Sunday. I am going to Ximending to watch a movie, and after riding, I will go to the back of Soochow University to hike.\n",
      "['today', 'sunny', 'sunday', 'going', 'ximending', 'watch', 'movie', 'riding', 'go', 'back', 'soochow', 'university', 'hike']\n"
     ]
    }
   ],
   "source": [
    "text=\"今天是一個晴朗的星期天。我要去西門町看電影，騎完之後要去東吳大學後面爬山\"\n",
    "print(\"Input text:\", text)\n",
    "print(extract_keywords(text=text))\n",
    "text = \"Today is a sunny Sunday. I am going to Ximending to watch a movie, and after riding, I will go to the back of Soochow University to hike.\"\n",
    "print(\"Input text:\", text)\n",
    "print(extract_keywords(text=text))"
   ]
  }
 ],
 "metadata": {
  "kernelspec": {
   "display_name": "grad_project",
   "language": "python",
   "name": "python3"
  },
  "language_info": {
   "codemirror_mode": {
    "name": "ipython",
    "version": 3
   },
   "file_extension": ".py",
   "mimetype": "text/x-python",
   "name": "python",
   "nbconvert_exporter": "python",
   "pygments_lexer": "ipython3",
   "version": "3.12.11"
  }
 },
 "nbformat": 4,
 "nbformat_minor": 5
}
